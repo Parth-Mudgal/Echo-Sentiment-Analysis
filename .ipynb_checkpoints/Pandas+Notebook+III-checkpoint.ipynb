{
 "cells": [
  {
   "cell_type": "markdown",
   "metadata": {},
   "source": [
    "## Python Libraries - Pandas - Grouping and Pivoting"
   ]
  },
  {
   "cell_type": "markdown",
   "metadata": {},
   "source": [
    "### Grouping"
   ]
  },
  {
   "cell_type": "markdown",
   "metadata": {},
   "source": [
    "Grouping and aggregation are some of the most frequently used operations in data analysis, especially while performing exploratory data analysis (EDA), where comparing summary statistics across groups of data is common.\n",
    "\n",
    "Grouping analysis can be thought of as having three parts, namely:\n",
    "-  Splitting the data into groups (e.g., groups of customer segments, product categories, etc.)\n",
    "-  Applying a function to each group (e.g., the mean or total sales of each customer segment)\n",
    "-  Combining the results into a data structure showing summary statistics\n"
   ]
  },
  {
   "cell_type": "code",
   "execution_count": 12,
   "metadata": {},
   "outputs": [],
   "source": [
    "# Loading libraries and file - sales.xlsx - with Market and Region as index\n",
    "import pandas as pd\n",
    "import numpy as np\n",
    "\n",
    "\n",
    "sales = pd.read_excel(r\"C:\\Users\\Parth\\Downloads\\sales.xlsx\")\n",
    "sales.set_index(['Market', 'Region'], inplace = True)"
   ]
  },
  {
   "cell_type": "code",
   "execution_count": 13,
   "metadata": {},
   "outputs": [
    {
     "data": {
      "text/html": [
       "<div>\n",
       "<style scoped>\n",
       "    .dataframe tbody tr th:only-of-type {\n",
       "        vertical-align: middle;\n",
       "    }\n",
       "\n",
       "    .dataframe tbody tr th {\n",
       "        vertical-align: top;\n",
       "    }\n",
       "\n",
       "    .dataframe thead th {\n",
       "        text-align: right;\n",
       "    }\n",
       "</style>\n",
       "<table border=\"1\" class=\"dataframe\">\n",
       "  <thead>\n",
       "    <tr style=\"text-align: right;\">\n",
       "      <th></th>\n",
       "      <th></th>\n",
       "      <th>No_of_Orders</th>\n",
       "      <th>Profit</th>\n",
       "      <th>Sales</th>\n",
       "    </tr>\n",
       "    <tr>\n",
       "      <th>Market</th>\n",
       "      <th>Region</th>\n",
       "      <th></th>\n",
       "      <th></th>\n",
       "      <th></th>\n",
       "    </tr>\n",
       "  </thead>\n",
       "  <tbody>\n",
       "    <tr>\n",
       "      <th rowspan=\"5\" valign=\"top\">Africa</th>\n",
       "      <th>Western Africa</th>\n",
       "      <td>251</td>\n",
       "      <td>-12901.51</td>\n",
       "      <td>78476.06</td>\n",
       "    </tr>\n",
       "    <tr>\n",
       "      <th>Southern Africa</th>\n",
       "      <td>85</td>\n",
       "      <td>11768.58</td>\n",
       "      <td>51319.50</td>\n",
       "    </tr>\n",
       "    <tr>\n",
       "      <th>North Africa</th>\n",
       "      <td>182</td>\n",
       "      <td>21643.08</td>\n",
       "      <td>86698.89</td>\n",
       "    </tr>\n",
       "    <tr>\n",
       "      <th>Eastern Africa</th>\n",
       "      <td>110</td>\n",
       "      <td>8013.04</td>\n",
       "      <td>44182.60</td>\n",
       "    </tr>\n",
       "    <tr>\n",
       "      <th>Central Africa</th>\n",
       "      <td>103</td>\n",
       "      <td>15606.30</td>\n",
       "      <td>61689.99</td>\n",
       "    </tr>\n",
       "    <tr>\n",
       "      <th rowspan=\"6\" valign=\"top\">Asia Pacific</th>\n",
       "      <th>Western Asia</th>\n",
       "      <td>382</td>\n",
       "      <td>-16766.90</td>\n",
       "      <td>124312.24</td>\n",
       "    </tr>\n",
       "    <tr>\n",
       "      <th>Southern Asia</th>\n",
       "      <td>469</td>\n",
       "      <td>67998.76</td>\n",
       "      <td>351806.60</td>\n",
       "    </tr>\n",
       "    <tr>\n",
       "      <th>Southeastern Asia</th>\n",
       "      <td>533</td>\n",
       "      <td>20948.84</td>\n",
       "      <td>329751.38</td>\n",
       "    </tr>\n",
       "    <tr>\n",
       "      <th>Oceania</th>\n",
       "      <td>646</td>\n",
       "      <td>54734.02</td>\n",
       "      <td>408002.98</td>\n",
       "    </tr>\n",
       "    <tr>\n",
       "      <th>Eastern Asia</th>\n",
       "      <td>414</td>\n",
       "      <td>72805.10</td>\n",
       "      <td>315390.77</td>\n",
       "    </tr>\n",
       "    <tr>\n",
       "      <th>Central Asia</th>\n",
       "      <td>37</td>\n",
       "      <td>-2649.76</td>\n",
       "      <td>8190.74</td>\n",
       "    </tr>\n",
       "    <tr>\n",
       "      <th rowspan=\"4\" valign=\"top\">Europe</th>\n",
       "      <th>Western Europe</th>\n",
       "      <td>964</td>\n",
       "      <td>82091.27</td>\n",
       "      <td>656637.14</td>\n",
       "    </tr>\n",
       "    <tr>\n",
       "      <th>Southern Europe</th>\n",
       "      <td>338</td>\n",
       "      <td>18911.49</td>\n",
       "      <td>215703.93</td>\n",
       "    </tr>\n",
       "    <tr>\n",
       "      <th>Northern Europe</th>\n",
       "      <td>367</td>\n",
       "      <td>43237.44</td>\n",
       "      <td>252969.09</td>\n",
       "    </tr>\n",
       "    <tr>\n",
       "      <th>Eastern Europe</th>\n",
       "      <td>241</td>\n",
       "      <td>25050.69</td>\n",
       "      <td>108258.93</td>\n",
       "    </tr>\n",
       "    <tr>\n",
       "      <th rowspan=\"3\" valign=\"top\">LATAM</th>\n",
       "      <th>South America</th>\n",
       "      <td>496</td>\n",
       "      <td>12377.59</td>\n",
       "      <td>210710.49</td>\n",
       "    </tr>\n",
       "    <tr>\n",
       "      <th>Central America</th>\n",
       "      <td>930</td>\n",
       "      <td>74679.54</td>\n",
       "      <td>461670.28</td>\n",
       "    </tr>\n",
       "    <tr>\n",
       "      <th>Caribbean</th>\n",
       "      <td>288</td>\n",
       "      <td>13529.59</td>\n",
       "      <td>116333.05</td>\n",
       "    </tr>\n",
       "    <tr>\n",
       "      <th rowspan=\"5\" valign=\"top\">USCA</th>\n",
       "      <th>Western US</th>\n",
       "      <td>490</td>\n",
       "      <td>44303.65</td>\n",
       "      <td>251991.83</td>\n",
       "    </tr>\n",
       "    <tr>\n",
       "      <th>Southern US</th>\n",
       "      <td>255</td>\n",
       "      <td>19991.83</td>\n",
       "      <td>148771.91</td>\n",
       "    </tr>\n",
       "    <tr>\n",
       "      <th>Eastern US</th>\n",
       "      <td>443</td>\n",
       "      <td>47462.04</td>\n",
       "      <td>264973.98</td>\n",
       "    </tr>\n",
       "    <tr>\n",
       "      <th>Central US</th>\n",
       "      <td>356</td>\n",
       "      <td>33697.43</td>\n",
       "      <td>170416.31</td>\n",
       "    </tr>\n",
       "    <tr>\n",
       "      <th>Canada</th>\n",
       "      <td>49</td>\n",
       "      <td>7246.62</td>\n",
       "      <td>26298.81</td>\n",
       "    </tr>\n",
       "  </tbody>\n",
       "</table>\n",
       "</div>"
      ],
      "text/plain": [
       "                                No_of_Orders    Profit      Sales\n",
       "Market       Region                                              \n",
       "Africa       Western Africa              251 -12901.51   78476.06\n",
       "             Southern Africa              85  11768.58   51319.50\n",
       "             North Africa                182  21643.08   86698.89\n",
       "             Eastern Africa              110   8013.04   44182.60\n",
       "             Central Africa              103  15606.30   61689.99\n",
       "Asia Pacific Western Asia                382 -16766.90  124312.24\n",
       "             Southern Asia               469  67998.76  351806.60\n",
       "             Southeastern Asia           533  20948.84  329751.38\n",
       "             Oceania                     646  54734.02  408002.98\n",
       "             Eastern Asia                414  72805.10  315390.77\n",
       "             Central Asia                 37  -2649.76    8190.74\n",
       "Europe       Western Europe              964  82091.27  656637.14\n",
       "             Southern Europe             338  18911.49  215703.93\n",
       "             Northern Europe             367  43237.44  252969.09\n",
       "             Eastern Europe              241  25050.69  108258.93\n",
       "LATAM        South America               496  12377.59  210710.49\n",
       "             Central America             930  74679.54  461670.28\n",
       "             Caribbean                   288  13529.59  116333.05\n",
       "USCA         Western US                  490  44303.65  251991.83\n",
       "             Southern US                 255  19991.83  148771.91\n",
       "             Eastern US                  443  47462.04  264973.98\n",
       "             Central US                  356  33697.43  170416.31\n",
       "             Canada                       49   7246.62   26298.81"
      ]
     },
     "execution_count": 13,
     "metadata": {},
     "output_type": "execute_result"
    }
   ],
   "source": [
    "# Checking the 'sales' dataframe \n",
    "sales"
   ]
  },
  {
   "cell_type": "code",
   "execution_count": 15,
   "metadata": {},
   "outputs": [
    {
     "data": {
      "text/html": [
       "<div>\n",
       "<style scoped>\n",
       "    .dataframe tbody tr th:only-of-type {\n",
       "        vertical-align: middle;\n",
       "    }\n",
       "\n",
       "    .dataframe tbody tr th {\n",
       "        vertical-align: top;\n",
       "    }\n",
       "\n",
       "    .dataframe thead th {\n",
       "        text-align: right;\n",
       "    }\n",
       "</style>\n",
       "<table border=\"1\" class=\"dataframe\">\n",
       "  <thead>\n",
       "    <tr style=\"text-align: right;\">\n",
       "      <th></th>\n",
       "      <th>No_of_Orders</th>\n",
       "    </tr>\n",
       "    <tr>\n",
       "      <th>Market</th>\n",
       "      <th></th>\n",
       "    </tr>\n",
       "  </thead>\n",
       "  <tbody>\n",
       "    <tr>\n",
       "      <th>Africa</th>\n",
       "      <td>731</td>\n",
       "    </tr>\n",
       "    <tr>\n",
       "      <th>Asia Pacific</th>\n",
       "      <td>2481</td>\n",
       "    </tr>\n",
       "    <tr>\n",
       "      <th>Europe</th>\n",
       "      <td>1910</td>\n",
       "    </tr>\n",
       "    <tr>\n",
       "      <th>LATAM</th>\n",
       "      <td>1714</td>\n",
       "    </tr>\n",
       "    <tr>\n",
       "      <th>USCA</th>\n",
       "      <td>1593</td>\n",
       "    </tr>\n",
       "  </tbody>\n",
       "</table>\n",
       "</div>"
      ],
      "text/plain": [
       "              No_of_Orders\n",
       "Market                    \n",
       "Africa                 731\n",
       "Asia Pacific          2481\n",
       "Europe                1910\n",
       "LATAM                 1714\n",
       "USCA                  1593"
      ]
     },
     "execution_count": 15,
     "metadata": {},
     "output_type": "execute_result"
    }
   ],
   "source": [
    "# Grouping the sales dataframe for the sum of the column 'No_of_Orders'\n",
    "sales[['No_of_Orders']].groupby('Market').sum()\n"
   ]
  },
  {
   "cell_type": "code",
   "execution_count": 16,
   "metadata": {},
   "outputs": [
    {
     "data": {
      "text/html": [
       "<div>\n",
       "<style scoped>\n",
       "    .dataframe tbody tr th:only-of-type {\n",
       "        vertical-align: middle;\n",
       "    }\n",
       "\n",
       "    .dataframe tbody tr th {\n",
       "        vertical-align: top;\n",
       "    }\n",
       "\n",
       "    .dataframe thead th {\n",
       "        text-align: right;\n",
       "    }\n",
       "</style>\n",
       "<table border=\"1\" class=\"dataframe\">\n",
       "  <thead>\n",
       "    <tr style=\"text-align: right;\">\n",
       "      <th></th>\n",
       "      <th>No_of_Orders</th>\n",
       "      <th>Sales</th>\n",
       "    </tr>\n",
       "    <tr>\n",
       "      <th>Market</th>\n",
       "      <th></th>\n",
       "      <th></th>\n",
       "    </tr>\n",
       "  </thead>\n",
       "  <tbody>\n",
       "    <tr>\n",
       "      <th>Africa</th>\n",
       "      <td>731</td>\n",
       "      <td>322367.04</td>\n",
       "    </tr>\n",
       "    <tr>\n",
       "      <th>Asia Pacific</th>\n",
       "      <td>2481</td>\n",
       "      <td>1537454.71</td>\n",
       "    </tr>\n",
       "    <tr>\n",
       "      <th>Europe</th>\n",
       "      <td>1910</td>\n",
       "      <td>1233569.09</td>\n",
       "    </tr>\n",
       "    <tr>\n",
       "      <th>LATAM</th>\n",
       "      <td>1714</td>\n",
       "      <td>788713.82</td>\n",
       "    </tr>\n",
       "    <tr>\n",
       "      <th>USCA</th>\n",
       "      <td>1593</td>\n",
       "      <td>862452.84</td>\n",
       "    </tr>\n",
       "  </tbody>\n",
       "</table>\n",
       "</div>"
      ],
      "text/plain": [
       "              No_of_Orders       Sales\n",
       "Market                                \n",
       "Africa                 731   322367.04\n",
       "Asia Pacific          2481  1537454.71\n",
       "Europe                1910  1233569.09\n",
       "LATAM                 1714   788713.82\n",
       "USCA                  1593   862452.84"
      ]
     },
     "execution_count": 16,
     "metadata": {},
     "output_type": "execute_result"
    }
   ],
   "source": [
    "# Grouping the sales dataframe over the index 'Market' for the sum of the columns 'No_of_Orders' and 'Sales'\n",
    "sales[['No_of_Orders', 'Sales']].groupby('Market').sum()"
   ]
  },
  {
   "cell_type": "code",
   "execution_count": 17,
   "metadata": {},
   "outputs": [
    {
     "data": {
      "text/html": [
       "<div>\n",
       "<style scoped>\n",
       "    .dataframe tbody tr th:only-of-type {\n",
       "        vertical-align: middle;\n",
       "    }\n",
       "\n",
       "    .dataframe tbody tr th {\n",
       "        vertical-align: top;\n",
       "    }\n",
       "\n",
       "    .dataframe thead th {\n",
       "        text-align: right;\n",
       "    }\n",
       "</style>\n",
       "<table border=\"1\" class=\"dataframe\">\n",
       "  <thead>\n",
       "    <tr style=\"text-align: right;\">\n",
       "      <th></th>\n",
       "      <th>No_of_Orders</th>\n",
       "    </tr>\n",
       "    <tr>\n",
       "      <th>Market</th>\n",
       "      <th></th>\n",
       "    </tr>\n",
       "  </thead>\n",
       "  <tbody>\n",
       "    <tr>\n",
       "      <th>Africa</th>\n",
       "      <td>251</td>\n",
       "    </tr>\n",
       "    <tr>\n",
       "      <th>Asia Pacific</th>\n",
       "      <td>646</td>\n",
       "    </tr>\n",
       "    <tr>\n",
       "      <th>Europe</th>\n",
       "      <td>964</td>\n",
       "    </tr>\n",
       "    <tr>\n",
       "      <th>LATAM</th>\n",
       "      <td>930</td>\n",
       "    </tr>\n",
       "    <tr>\n",
       "      <th>USCA</th>\n",
       "      <td>490</td>\n",
       "    </tr>\n",
       "  </tbody>\n",
       "</table>\n",
       "</div>"
      ],
      "text/plain": [
       "              No_of_Orders\n",
       "Market                    \n",
       "Africa                 251\n",
       "Asia Pacific           646\n",
       "Europe                 964\n",
       "LATAM                  930\n",
       "USCA                   490"
      ]
     },
     "execution_count": 17,
     "metadata": {},
     "output_type": "execute_result"
    }
   ],
   "source": [
    "# Grouping the sales dataframe over the index 'Market' for the maximum value in the column 'No_of_Orders'\n",
    "sales[['No_of_Orders']].groupby('Market').max()"
   ]
  },
  {
   "cell_type": "code",
   "execution_count": 37,
   "metadata": {},
   "outputs": [],
   "source": [
    "# Creating a dataframe 'df' with the mean of column 'Profit' for each market\n",
    "df = sales[['Profit']].groupby('Market').mean()\n",
    "df.reset_index(inplace = True)"
   ]
  },
  {
   "cell_type": "code",
   "execution_count": 38,
   "metadata": {},
   "outputs": [
    {
     "data": {
      "image/png": "[encoded data removed]",
      "text/plain": [
       "<Figure size 640x480 with 1 Axes>"
      ]
     },
     "metadata": {},
     "output_type": "display_data"
    }
   ],
   "source": [
    "# Plotting a bar graph over 'df'\n",
    "import matplotlib.pyplot as plt\n",
    "plt.bar(df['Market'], df['Profit'])\n",
    "plt.show()"
   ]
  },
  {
   "cell_type": "markdown",
   "metadata": {},
   "source": [
    " "
   ]
  },
  {
   "cell_type": "markdown",
   "metadata": {},
   "source": [
    "### Pivoting"
   ]
  },
  {
   "cell_type": "markdown",
   "metadata": {},
   "source": [
    "You may want to use pandas pivot tables as an alternative to ```groupby()```. They provide Excel-like functionalities to create aggregate tables. "
   ]
  },
  {
   "cell_type": "code",
   "execution_count": 39,
   "metadata": {},
   "outputs": [
    {
     "name": "stdout",
     "output_type": "stream",
     "text": [
      "Help on function pivot_table in module pandas.core.frame:\n",
      "\n",
      "pivot_table(self, values=None, index=None, columns=None, aggfunc: 'AggFuncType' = 'mean', fill_value=None, margins: 'bool' = False, dropna: 'bool' = True, margins_name: 'Level' = 'All', observed: 'bool' = False, sort: 'bool' = True) -> 'DataFrame'\n",
      "    Create a spreadsheet-style pivot table as a DataFrame.\n",
      "    \n",
      "    The levels in the pivot table will be stored in MultiIndex objects\n",
      "    (hierarchical indexes) on the index and columns of the result DataFrame.\n",
      "    \n",
      "    Parameters\n",
      "    ----------\n",
      "    values : list-like or scalar, optional\n",
      "        Column or columns to aggregate.\n",
      "    index : column, Grouper, array, or list of the previous\n",
      "        Keys to group by on the pivot table index. If a list is passed,\n",
      "        it can contain any of the other types (except list). If an array is\n",
      "        passed, it must be the same length as the data and will be used in\n",
      "        the same manner as column values.\n",
      "    columns : column, Grouper, array, or list of the previous\n",
      "        Keys to group by on the pivot table column. If a list is passed,\n",
      "        it can contain any of the other types (except list). If an array is\n",
      "        passed, it must be the same length as the data and will be used in\n",
      "        the same manner as column values.\n",
      "    aggfunc : function, list of functions, dict, default \"mean\"\n",
      "        If a list of functions is passed, the resulting pivot table will have\n",
      "        hierarchical columns whose top level are the function names\n",
      "        (inferred from the function objects themselves).\n",
      "        If a dict is passed, the key is column to aggregate and the value is\n",
      "        function or list of functions. If ``margin=True``, aggfunc will be\n",
      "        used to calculate the partial aggregates.\n",
      "    fill_value : scalar, default None\n",
      "        Value to replace missing values with (in the resulting pivot table,\n",
      "        after aggregation).\n",
      "    margins : bool, default False\n",
      "        If ``margins=True``, special ``All`` columns and rows\n",
      "        will be added with partial group aggregates across the categories\n",
      "        on the rows and columns.\n",
      "    dropna : bool, default True\n",
      "        Do not include columns whose entries are all NaN. If True,\n",
      "        rows with a NaN value in any column will be omitted before\n",
      "        computing margins.\n",
      "    margins_name : str, default 'All'\n",
      "        Name of the row / column that will contain the totals\n",
      "        when margins is True.\n",
      "    observed : bool, default False\n",
      "        This only applies if any of the groupers are Categoricals.\n",
      "        If True: only show observed values for categorical groupers.\n",
      "        If False: show all values for categorical groupers.\n",
      "    \n",
      "    sort : bool, default True\n",
      "        Specifies if the result should be sorted.\n",
      "    \n",
      "        .. versionadded:: 1.3.0\n",
      "    \n",
      "    Returns\n",
      "    -------\n",
      "    DataFrame\n",
      "        An Excel style pivot table.\n",
      "    \n",
      "    See Also\n",
      "    --------\n",
      "    DataFrame.pivot : Pivot without aggregation that can handle\n",
      "        non-numeric data.\n",
      "    DataFrame.melt: Unpivot a DataFrame from wide to long format,\n",
      "        optionally leaving identifiers set.\n",
      "    wide_to_long : Wide panel to long format. Less flexible but more\n",
      "        user-friendly than melt.\n",
      "    \n",
      "    Notes\n",
      "    -----\n",
      "    Reference :ref:`the user guide <reshaping.pivot>` for more examples.\n",
      "    \n",
      "    Examples\n",
      "    --------\n",
      "    >>> df = pd.DataFrame({\"A\": [\"foo\", \"foo\", \"foo\", \"foo\", \"foo\",\n",
      "    ...                          \"bar\", \"bar\", \"bar\", \"bar\"],\n",
      "    ...                    \"B\": [\"one\", \"one\", \"one\", \"two\", \"two\",\n",
      "    ...                          \"one\", \"one\", \"two\", \"two\"],\n",
      "    ...                    \"C\": [\"small\", \"large\", \"large\", \"small\",\n",
      "    ...                          \"small\", \"large\", \"small\", \"small\",\n",
      "    ...                          \"large\"],\n",
      "    ...                    \"D\": [1, 2, 2, 3, 3, 4, 5, 6, 7],\n",
      "    ...                    \"E\": [2, 4, 5, 5, 6, 6, 8, 9, 9]})\n",
      "    >>> df\n",
      "         A    B      C  D  E\n",
      "    0  foo  one  small  1  2\n",
      "    1  foo  one  large  2  4\n",
      "    2  foo  one  large  2  5\n",
      "    3  foo  two  small  3  5\n",
      "    4  foo  two  small  3  6\n",
      "    5  bar  one  large  4  6\n",
      "    6  bar  one  small  5  8\n",
      "    7  bar  two  small  6  9\n",
      "    8  bar  two  large  7  9\n",
      "    \n",
      "    This first example aggregates values by taking the sum.\n",
      "    \n",
      "    >>> table = pd.pivot_table(df, values='D', index=['A', 'B'],\n",
      "    ...                        columns=['C'], aggfunc=\"sum\")\n",
      "    >>> table\n",
      "    C        large  small\n",
      "    A   B\n",
      "    bar one    4.0    5.0\n",
      "        two    7.0    6.0\n",
      "    foo one    4.0    1.0\n",
      "        two    NaN    6.0\n",
      "    \n",
      "    We can also fill missing values using the `fill_value` parameter.\n",
      "    \n",
      "    >>> table = pd.pivot_table(df, values='D', index=['A', 'B'],\n",
      "    ...                        columns=['C'], aggfunc=\"sum\", fill_value=0)\n",
      "    >>> table\n",
      "    C        large  small\n",
      "    A   B\n",
      "    bar one      4      5\n",
      "        two      7      6\n",
      "    foo one      4      1\n",
      "        two      0      6\n",
      "    \n",
      "    The next example aggregates by taking the mean across multiple columns.\n",
      "    \n",
      "    >>> table = pd.pivot_table(df, values=['D', 'E'], index=['A', 'C'],\n",
      "    ...                        aggfunc={'D': \"mean\", 'E': \"mean\"})\n",
      "    >>> table\n",
      "                    D         E\n",
      "    A   C\n",
      "    bar large  5.500000  7.500000\n",
      "        small  5.500000  8.500000\n",
      "    foo large  2.000000  4.500000\n",
      "        small  2.333333  4.333333\n",
      "    \n",
      "    We can also calculate multiple types of aggregations for any given\n",
      "    value column.\n",
      "    \n",
      "    >>> table = pd.pivot_table(df, values=['D', 'E'], index=['A', 'C'],\n",
      "    ...                        aggfunc={'D': \"mean\",\n",
      "    ...                                 'E': [\"min\", \"max\", \"mean\"]})\n",
      "    >>> table\n",
      "                      D   E\n",
      "                   mean max      mean  min\n",
      "    A   C\n",
      "    bar large  5.500000   9  7.500000    6\n",
      "        small  5.500000   9  8.500000    8\n",
      "    foo large  2.000000   5  4.500000    4\n",
      "        small  2.333333   6  4.333333    2\n",
      "\n"
     ]
    }
   ],
   "source": [
    "# Read the help documentation for pivot_table\n",
    "help(pd.DataFrame.pivot_table)"
   ]
  },
  {
   "cell_type": "code",
   "execution_count": 54,
   "metadata": {},
   "outputs": [],
   "source": [
    "# Importing the required libraries\n",
    "import pandas as pd\n",
    "import matplotlib.pyplot as plt"
   ]
  },
  {
   "cell_type": "code",
   "execution_count": 55,
   "metadata": {},
   "outputs": [],
   "source": [
    "# Create a new dataframe\n",
    "users= pd.DataFrame({\"weekday\" : ['Sun', 'Sun', 'Mon', 'Mon'],\n",
    "                    \"city\": ['Austin', 'Dallas', 'Austin', 'Dallas'],\n",
    "                    \"visitors\":[139, 237, 326, 456],\n",
    "                    \"signups\" : [7, 12, 3, 5]})"
   ]
  },
  {
   "cell_type": "code",
   "execution_count": 56,
   "metadata": {},
   "outputs": [],
   "source": [
    "# Set the index of the dataframe as 'weekday'\n",
    "users.set_index('weekday', inplace = True)"
   ]
  },
  {
   "cell_type": "code",
   "execution_count": 57,
   "metadata": {},
   "outputs": [
    {
     "data": {
      "image/png": "[encoded data removed]",
      "text/plain": [
       "<Figure size 640x480 with 1 Axes>"
      ]
     },
     "metadata": {},
     "output_type": "display_data"
    }
   ],
   "source": [
    "# plot a bar graph over the dataframe 'users'\n",
    "users.plot(kind = 'bar')\n",
    "plt.show()"
   ]
  },
  {
   "cell_type": "code",
   "execution_count": 58,
   "metadata": {},
   "outputs": [
    {
     "data": {
      "text/html": [
       "<div>\n",
       "<style scoped>\n",
       "    .dataframe tbody tr th:only-of-type {\n",
       "        vertical-align: middle;\n",
       "    }\n",
       "\n",
       "    .dataframe tbody tr th {\n",
       "        vertical-align: top;\n",
       "    }\n",
       "\n",
       "    .dataframe thead th {\n",
       "        text-align: right;\n",
       "    }\n",
       "</style>\n",
       "<table border=\"1\" class=\"dataframe\">\n",
       "  <thead>\n",
       "    <tr style=\"text-align: right;\">\n",
       "      <th>city</th>\n",
       "      <th>Austin</th>\n",
       "      <th>Dallas</th>\n",
       "    </tr>\n",
       "    <tr>\n",
       "      <th>weekday</th>\n",
       "      <th></th>\n",
       "      <th></th>\n",
       "    </tr>\n",
       "  </thead>\n",
       "  <tbody>\n",
       "    <tr>\n",
       "      <th>Mon</th>\n",
       "      <td>326</td>\n",
       "      <td>456</td>\n",
       "    </tr>\n",
       "    <tr>\n",
       "      <th>Sun</th>\n",
       "      <td>139</td>\n",
       "      <td>237</td>\n",
       "    </tr>\n",
       "  </tbody>\n",
       "</table>\n",
       "</div>"
      ],
      "text/plain": [
       "city     Austin  Dallas\n",
       "weekday                \n",
       "Mon         326     456\n",
       "Sun         139     237"
      ]
     },
     "execution_count": 58,
     "metadata": {},
     "output_type": "execute_result"
    }
   ],
   "source": [
    "# Create a pivot table with the columns as 'city' summarising the variable 'visitors'\n",
    "visitors_pivot = users.pivot(columns = 'city', values = 'visitors')"
   ]
  },
  {
   "cell_type": "code",
   "execution_count": 59,
   "metadata": {},
   "outputs": [
    {
     "data": {
      "text/html": [
       "<div>\n",
       "<style scoped>\n",
       "    .dataframe tbody tr th:only-of-type {\n",
       "        vertical-align: middle;\n",
       "    }\n",
       "\n",
       "    .dataframe tbody tr th {\n",
       "        vertical-align: top;\n",
       "    }\n",
       "\n",
       "    .dataframe thead th {\n",
       "        text-align: right;\n",
       "    }\n",
       "</style>\n",
       "<table border=\"1\" class=\"dataframe\">\n",
       "  <thead>\n",
       "    <tr style=\"text-align: right;\">\n",
       "      <th>city</th>\n",
       "      <th>Austin</th>\n",
       "      <th>Dallas</th>\n",
       "    </tr>\n",
       "    <tr>\n",
       "      <th>weekday</th>\n",
       "      <th></th>\n",
       "      <th></th>\n",
       "    </tr>\n",
       "  </thead>\n",
       "  <tbody>\n",
       "    <tr>\n",
       "      <th>Mon</th>\n",
       "      <td>326</td>\n",
       "      <td>456</td>\n",
       "    </tr>\n",
       "    <tr>\n",
       "      <th>Sun</th>\n",
       "      <td>139</td>\n",
       "      <td>237</td>\n",
       "    </tr>\n",
       "  </tbody>\n",
       "</table>\n",
       "</div>"
      ],
      "text/plain": [
       "city     Austin  Dallas\n",
       "weekday                \n",
       "Mon         326     456\n",
       "Sun         139     237"
      ]
     },
     "execution_count": 59,
     "metadata": {},
     "output_type": "execute_result"
    }
   ],
   "source": [
    "# Check the created pivot table\n",
    "visitors_pivot"
   ]
  },
  {
   "cell_type": "code",
   "execution_count": 60,
   "metadata": {},
   "outputs": [
    {
     "data": {
      "image/png": "[encoded data removed]",
      "text/plain": [
       "<Figure size 640x480 with 1 Axes>"
      ]
     },
     "metadata": {},
     "output_type": "display_data"
    }
   ],
   "source": [
    "visitors_pivot.plot(kind = 'bar')# Draw a bar graph over the created pivot\n",
    "plt.show()"
   ]
  },
  {
   "cell_type": "code",
   "execution_count": 61,
   "metadata": {},
   "outputs": [
    {
     "data": {
      "text/html": [
       "<div>\n",
       "<style scoped>\n",
       "    .dataframe tbody tr th:only-of-type {\n",
       "        vertical-align: middle;\n",
       "    }\n",
       "\n",
       "    .dataframe tbody tr th {\n",
       "        vertical-align: top;\n",
       "    }\n",
       "\n",
       "    .dataframe thead tr th {\n",
       "        text-align: left;\n",
       "    }\n",
       "\n",
       "    .dataframe thead tr:last-of-type th {\n",
       "        text-align: right;\n",
       "    }\n",
       "</style>\n",
       "<table border=\"1\" class=\"dataframe\">\n",
       "  <thead>\n",
       "    <tr>\n",
       "      <th></th>\n",
       "      <th colspan=\"2\" halign=\"left\">visitors</th>\n",
       "      <th colspan=\"2\" halign=\"left\">signups</th>\n",
       "    </tr>\n",
       "    <tr>\n",
       "      <th>city</th>\n",
       "      <th>Austin</th>\n",
       "      <th>Dallas</th>\n",
       "      <th>Austin</th>\n",
       "      <th>Dallas</th>\n",
       "    </tr>\n",
       "    <tr>\n",
       "      <th>weekday</th>\n",
       "      <th></th>\n",
       "      <th></th>\n",
       "      <th></th>\n",
       "      <th></th>\n",
       "    </tr>\n",
       "  </thead>\n",
       "  <tbody>\n",
       "    <tr>\n",
       "      <th>Mon</th>\n",
       "      <td>326</td>\n",
       "      <td>456</td>\n",
       "      <td>3</td>\n",
       "      <td>5</td>\n",
       "    </tr>\n",
       "    <tr>\n",
       "      <th>Sun</th>\n",
       "      <td>139</td>\n",
       "      <td>237</td>\n",
       "      <td>7</td>\n",
       "      <td>12</td>\n",
       "    </tr>\n",
       "  </tbody>\n",
       "</table>\n",
       "</div>"
      ],
      "text/plain": [
       "        visitors        signups       \n",
       "city      Austin Dallas  Austin Dallas\n",
       "weekday                               \n",
       "Mon          326    456       3      5\n",
       "Sun          139    237       7     12"
      ]
     },
     "execution_count": 61,
     "metadata": {},
     "output_type": "execute_result"
    }
   ],
   "source": [
    "# Create a pivot table with the columns as 'city' summarising all the variables\n",
    "pivott = users.pivot(columns = 'city')"
   ]
  },
  {
   "cell_type": "code",
   "execution_count": 62,
   "metadata": {},
   "outputs": [
    {
     "data": {
      "text/html": [
       "<div>\n",
       "<style scoped>\n",
       "    .dataframe tbody tr th:only-of-type {\n",
       "        vertical-align: middle;\n",
       "    }\n",
       "\n",
       "    .dataframe tbody tr th {\n",
       "        vertical-align: top;\n",
       "    }\n",
       "\n",
       "    .dataframe thead tr th {\n",
       "        text-align: left;\n",
       "    }\n",
       "\n",
       "    .dataframe thead tr:last-of-type th {\n",
       "        text-align: right;\n",
       "    }\n",
       "</style>\n",
       "<table border=\"1\" class=\"dataframe\">\n",
       "  <thead>\n",
       "    <tr>\n",
       "      <th></th>\n",
       "      <th colspan=\"2\" halign=\"left\">visitors</th>\n",
       "      <th colspan=\"2\" halign=\"left\">signups</th>\n",
       "    </tr>\n",
       "    <tr>\n",
       "      <th>city</th>\n",
       "      <th>Austin</th>\n",
       "      <th>Dallas</th>\n",
       "      <th>Austin</th>\n",
       "      <th>Dallas</th>\n",
       "    </tr>\n",
       "    <tr>\n",
       "      <th>weekday</th>\n",
       "      <th></th>\n",
       "      <th></th>\n",
       "      <th></th>\n",
       "      <th></th>\n",
       "    </tr>\n",
       "  </thead>\n",
       "  <tbody>\n",
       "    <tr>\n",
       "      <th>Mon</th>\n",
       "      <td>326</td>\n",
       "      <td>456</td>\n",
       "      <td>3</td>\n",
       "      <td>5</td>\n",
       "    </tr>\n",
       "    <tr>\n",
       "      <th>Sun</th>\n",
       "      <td>139</td>\n",
       "      <td>237</td>\n",
       "      <td>7</td>\n",
       "      <td>12</td>\n",
       "    </tr>\n",
       "  </tbody>\n",
       "</table>\n",
       "</div>"
      ],
      "text/plain": [
       "        visitors        signups       \n",
       "city      Austin Dallas  Austin Dallas\n",
       "weekday                               \n",
       "Mon          326    456       3      5\n",
       "Sun          139    237       7     12"
      ]
     },
     "execution_count": 62,
     "metadata": {},
     "output_type": "execute_result"
    }
   ],
   "source": [
    "# Check the created pivot table\n",
    "pivott"
   ]
  },
  {
   "cell_type": "code",
   "execution_count": 63,
   "metadata": {},
   "outputs": [
    {
     "data": {
      "image/png": "[encoded data removed]",
      "text/plain": [
       "<Figure size 640x480 with 1 Axes>"
      ]
     },
     "metadata": {},
     "output_type": "display_data"
    },
    {
     "data": {
      "image/png": "[encoded data removed]",
      "text/plain": [
       "<Figure size 640x480 with 1 Axes>"
      ]
     },
     "metadata": {},
     "output_type": "display_data"
    }
   ],
   "source": [
    "# Draw a bar graph over the created pivot for each variable\n",
    "pivott['visitors'].plot(kind = 'bar')\n",
    "pivott['signups'].plot(kind = 'bar')\n",
    "plt.show()"
   ]
  },
  {
   "cell_type": "code",
   "execution_count": null,
   "metadata": {},
   "outputs": [],
   "source": []
  }
 ],
 "metadata": {
  "kernelspec": {
   "display_name": "Python 3 (ipykernel)",
   "language": "python",
   "name": "python3"
  },
  "language_info": {
   "codemirror_mode": {
    "name": "ipython",
    "version": 3
   },
   "file_extension": ".py",
   "mimetype": "text/x-python",
   "name": "python",
   "nbconvert_exporter": "python",
   "pygments_lexer": "ipython3",
   "version": "3.11.5"
  }
 },
 "nbformat": 4,
 "nbformat_minor": 4
}
